{
 "cells": [
  {
   "cell_type": "code",
   "execution_count": 4,
   "id": "514cfff8-2593-4253-8ebe-9ff0a56c7878",
   "metadata": {
    "tags": []
   },
   "outputs": [
    {
     "data": {
      "text/html": [
       "<div><i>Table length=5</i>\n",
       "<table id=\"table2731005890256\" class=\"table-striped table-bordered table-condensed\">\n",
       "<thead><tr><th>name</th><th>ra</th><th>dec</th></tr></thead>\n",
       "<thead><tr><th>str6</th><th>str10</th><th>str9</th></tr></thead>\n",
       "<tr><td>str6</td><td>str10</td><td>str9</td></tr>\n",
       "<tr><td>BLG100</td><td>17:51:00.0</td><td>-29:59:48</td></tr>\n",
       "<tr><td>BLG101</td><td>17:53:40.2</td><td>-29:49:52</td></tr>\n",
       "<tr><td>BLG102</td><td>17:56:20.2</td><td>-29:30:51</td></tr>\n",
       "<tr><td>BLG103</td><td>17:56:20.2</td><td>-30:06:22</td></tr>\n",
       "</table></div>"
      ],
      "text/plain": [
       "<Table length=5>\n",
       " name      ra        dec   \n",
       " str6    str10       str9  \n",
       "------ ---------- ---------\n",
       "  str6      str10      str9\n",
       "BLG100 17:51:00.0 -29:59:48\n",
       "BLG101 17:53:40.2 -29:49:52\n",
       "BLG102 17:56:20.2 -29:30:51\n",
       "BLG103 17:56:20.2 -30:06:22"
      ]
     },
     "execution_count": 4,
     "metadata": {},
     "output_type": "execute_result"
    }
   ],
   "source": [
    "import numpy as np\n",
    "\n",
    "# Set up matplotlib\n",
    "import matplotlib.pyplot as plt\n",
    "%matplotlib inline\n",
    "from astropy.io import ascii\n",
    "\n",
    "tbl = ascii.read(\"simple_table.txt\")\n",
    "tbl"
   ]
  },
  {
   "cell_type": "code",
   "execution_count": 6,
   "id": "136d8c3c-6c62-40a2-babf-01ff6cbb7e54",
   "metadata": {
    "tags": []
   },
   "outputs": [
    {
     "data": {
      "text/plain": [
       "267.75"
      ]
     },
     "execution_count": 6,
     "metadata": {},
     "output_type": "execute_result"
    }
   ],
   "source": [
    "import astropy.coordinates as coord\n",
    "import astropy.units as u\n",
    "\n",
    "first_row = tbl[1] # get the first (0th) row\n",
    "ra = coord.Angle(first_row[\"ra\"], unit=u.hour) # create an Angle object\n",
    "ra.degree # convert to degrees"
   ]
  }
 ],
 "metadata": {
  "kernelspec": {
   "display_name": "Python 3 (ipykernel)",
   "language": "python",
   "name": "python3"
  },
  "language_info": {
   "codemirror_mode": {
    "name": "ipython",
    "version": 3
   },
   "file_extension": ".py",
   "mimetype": "text/x-python",
   "name": "python",
   "nbconvert_exporter": "python",
   "pygments_lexer": "ipython3",
   "version": "3.11.4"
  }
 },
 "nbformat": 4,
 "nbformat_minor": 5
}
